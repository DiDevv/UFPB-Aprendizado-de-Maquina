{
 "cells": [
  {
   "cell_type": "markdown",
   "id": "6e18f3c6-bf90-4cb4-8dd7-d60e2a071016",
   "metadata": {},
   "source": [
    "# Aula 03 - Aprendizado de Máquina (GDEST0106) Departamento de Estatística UFPB"
   ]
  },
  {
   "cell_type": "markdown",
   "id": "8adc1d08-12f4-4d00-a2e6-f3e45182f055",
   "metadata": {},
   "source": [
    "> Na aula 01, foi dada a introdução do curso seguindo de algumas dicas de leitura.\n",
    "Realizei algumas anotações no Notion, e logo, logo colocarei aqui as indicações de materiais.\n",
    "> Slides da disciplina disponíveis em: https://prdm0.github.io/curso_ml/#/title-slide (Site pessoal do Professor Pedro Rafael - https://github.com/prdm0)\n",
    "\n",
    "#### Data das Avaliações:\n",
    "|Primeira|Segunda|Terceira|\n",
    "|--------|-------|--------|\n",
    "|12/08|09/09|21/10|"
   ]
  },
  {
   "cell_type": "code",
   "execution_count": null,
   "id": "0b9c4f28-08d5-43c7-a1d2-aefd7e762601",
   "metadata": {},
   "outputs": [],
   "source": []
  }
 ],
 "metadata": {
  "kernelspec": {
   "display_name": "Python 3 (ipykernel)",
   "language": "python",
   "name": "python3"
  },
  "language_info": {
   "codemirror_mode": {
    "name": "ipython",
    "version": 3
   },
   "file_extension": ".py",
   "mimetype": "text/x-python",
   "name": "python",
   "nbconvert_exporter": "python",
   "pygments_lexer": "ipython3",
   "version": "3.12.4"
  }
 },
 "nbformat": 4,
 "nbformat_minor": 5
}
