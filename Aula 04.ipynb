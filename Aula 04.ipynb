{
 "cells": [
  {
   "cell_type": "markdown",
   "id": "e1b54922-4d67-4bc5-95ff-82e94d146af2",
   "metadata": {},
   "source": [
    "# Aula 03 - Aprendizado de Máquina (GDEST0106) Departamento de Estatística UFPB"
   ]
  },
  {
   "cell_type": "markdown",
   "id": "a766cd9b-0301-4d9f-b9d3-f97256101326",
   "metadata": {},
   "source": [
    "\n",
    "Leitura: [Statistical modeling: The two cultures - Brad Efron](https://projecteuclid.org/journalArticle/Download?urlId=10.1214%2Fss%2F1009213726)  -> Um divo da estatística\n",
    "\n",
    "---\n",
    "KNN para técnica de inputação de dados - Ele não tira a média do conjunto todo para inputar, mas e sim das linhas vizinhas.\n",
    "\n",
    "[Tidymodels](https://www.tmwr.org/) leitura\n",
    "\n",
    "- Revisar Histograma\n",
    "\n",
    "----\n",
    "Nem sempre, o modelo mais especificado é o melhor para predição!!\n",
    "\n",
    "----\n",
    "\n",
    "Para lidar com problemas de String, utilizar Regex para eliminá-los e padronizar. \n",
    "\n",
    "O que seria paralelização?\n",
    "\n",
    "Não existe uma fórmula fixa para a divisão de modelos em treino e teste, então as vzs 70/30, as vzs 80/20... Você quem avalia e dita.\n",
    "\n",
    "Ambiente de produção - API (como retornar graficos em API flask)\n",
    "\n",
    "API (plumber em R)\n",
    "\n",
    "Skitlearn Pipeline - A etapa de pipeline para salvar as etapas de modelagem \n",
    "\n",
    "Validação cruzada - Estudar\n",
    "\n",
    "Bootstrap na estatística - (O termo Bagging(reduzir a variância do modelo) vem daí, inclusive estuda isso kkk) -> Geralmente, testar modelo com bagging e sem bagging, o que resultar melhor fica. - Aliás, isso se aplica a TUDO.\n",
    "\n",
    "Variancia alta = overfitting (viés pequeno) - Variâcia baiixa = underfitting (viés alto) / Então para reduzir, é usada a técnica de bagging.\n",
    "\n",
    "Estudar inferência estatística e Teste de Hipótese\n",
    "\n",
    "Apache Arrow - Compressão de grandes base de dados gigantes \n",
    "\n",
    "DuckDB - Para gerenciar banco de dados gigantes de forma otimizada\n",
    "\n",
    "[Pyjanitor](https://pyjanitor-devs.github.io/pyjanitor/) - para organizar e limpar nomes de colunas\n",
    "\n",
    "----\n",
    "\n",
    "**Eliminar Simetria dos dados:**\n",
    "\n",
    "Modelos performam melhor em base de dados assimetrica.\n",
    "\n",
    "Ler sobre padronização de Dados  - Para eliminar assimetria (observada no histograma)\n",
    "\n",
    "Ler sobre normalização de dados - (Z = (X - u)/desvioP)\n",
    "\n",
    "Iteração nos dados \n",
    "\n",
    "Formas de melhorar o EQM - Erro quadrático médio\n",
    "\n",
    "EQM e R2 são os principais parametros para analise de desempenho do modelo de regressão\n",
    "\n",
    "----\n",
    "\n",
    "Variáveis Dummy (transformando variáveis categoricas em numéricas, tipo SIM e NÃO e torna-la 0 e 1)\n",
    "\n",
    "One-hot encoding (Transformar variáveis categóricas com mais de duas variáveis, ele transforma toda categoria em dummy)"
   ]
  },
  {
   "cell_type": "code",
   "execution_count": null,
   "id": "dbf26a09-5ca7-48df-953e-16de13ab9d89",
   "metadata": {},
   "outputs": [],
   "source": []
  }
 ],
 "metadata": {
  "kernelspec": {
   "display_name": "Python 3 (ipykernel)",
   "language": "python",
   "name": "python3"
  },
  "language_info": {
   "codemirror_mode": {
    "name": "ipython",
    "version": 3
   },
   "file_extension": ".py",
   "mimetype": "text/x-python",
   "name": "python",
   "nbconvert_exporter": "python",
   "pygments_lexer": "ipython3",
   "version": "3.12.4"
  }
 },
 "nbformat": 4,
 "nbformat_minor": 5
}
