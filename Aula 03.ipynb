{
 "cells": [
  {
   "cell_type": "markdown",
   "id": "6e18f3c6-bf90-4cb4-8dd7-d60e2a071016",
   "metadata": {},
   "source": [
    "# Aula 03 - Aprendizado de Máquina (GDEST0106) Departamento de Estatística UFPB"
   ]
  },
  {
   "cell_type": "markdown",
   "id": "8adc1d08-12f4-4d00-a2e6-f3e45182f055",
   "metadata": {},
   "source": [
    "> Na aula 01, foi dada a introdução do curso seguindo de algumas dicas de leitura.\n",
    "Realizei algumas anotações no Notion, e logo, logo colocarei aqui as indicações de materiais.\n",
    "> Slides da disciplina disponíveis em: https://prdm0.github.io/curso_ml/#/title-slide (Site pessoal do Professor Pedro Rafael - https://github.com/prdm0)\n",
    "\n",
    "#### Data das Avaliações:\n",
    "|Primeira|Segunda|Terceira|\n",
    "|--------|-------|--------|\n",
    "|12/08|09/09|21/10|"
   ]
  },
  {
   "cell_type": "markdown",
   "id": "4ec67cb8-8bc7-4ca9-9398-021eb5f547ee",
   "metadata": {},
   "source": [
    "----\n",
    "Na prática, em aprendizado de máquina, os modelos não necessáriamente precisam ser bem especificados(estatística) ou com nenhum viés(evitar overffiting) - Modelos com viés zero tendem a variância ao infinito. \n",
    "\n",
    "-> Conceito matemático de probabilidade IIQ - Aprendido em probabilidade 4 para o curso de estatítica e aqui é onde se trata dos conjuntos de treino, \n",
    "validação e teste.\n",
    "\n",
    "-> Features X (variável independente)\n",
    "\n",
    "-> Label Y (Rótulo)\n",
    "\n",
    "-> Ajustes de Hiperparâmetros (pesquisar mais sobre)\n",
    "\n",
    "-> Engenharia de Features (pesquisar sobre)\n",
    "\n",
    "-> Tipos de Aprendizagem: Supervisionada, Não-Supervisionada, Semi-Supervisionaada e Aprendizagem por Reforço\n",
    "\n",
    "Supervisionado: Dados ROTULADOS.\n",
    "\n",
    "Não supervisionado: Dados NÃO rotulados.\n",
    "\n",
    "Aprendizado por reforço: SEM base de dados (vai sendo construido) Ele vai aprendendo com o erro, geralmente problemas onde não temos um banco de dados ainda -  Vai aprendendo e errando até aprender (através de penalização)\n",
    "\n",
    "\n",
    "Leitura recomendada sobre biblioteca [dplyr](https://livro.curso-r.com/7-2-dplyr.html)\n",
    "\n",
    "Leitura sobre operadores pipe em R\n",
    "\n",
    "Siuba biblioteca parecido com dplyr para Python\n",
    "\n",
    "Sempre trabalhar com funções no meu código, por ficar mais fácil de manter\n",
    "\n",
    "Projeto pessoal: tentar, com o game de pingpong de python criar uma rede neural para jogar sozinha ou contra o player a jogar ping pong."
   ]
  },
  {
   "cell_type": "markdown",
   "id": "28552814-e9e7-43df-a38f-8b573ee71e84",
   "metadata": {},
   "source": []
  }
 ],
 "metadata": {
  "kernelspec": {
   "display_name": "Python 3 (ipykernel)",
   "language": "python",
   "name": "python3"
  },
  "language_info": {
   "codemirror_mode": {
    "name": "ipython",
    "version": 3
   },
   "file_extension": ".py",
   "mimetype": "text/x-python",
   "name": "python",
   "nbconvert_exporter": "python",
   "pygments_lexer": "ipython3",
   "version": "3.12.4"
  }
 },
 "nbformat": 4,
 "nbformat_minor": 5
}
